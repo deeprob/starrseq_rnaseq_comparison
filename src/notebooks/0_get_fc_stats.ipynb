{
 "cells": [
  {
   "cell_type": "code",
   "execution_count": 1,
   "metadata": {},
   "outputs": [],
   "source": [
    "import pandas as pd\n",
    "import seaborn as sns"
   ]
  },
  {
   "cell_type": "code",
   "execution_count": 2,
   "metadata": {},
   "outputs": [],
   "source": [
    "import sys\n",
    "sys.path.append(\"../\")\n",
    "import utils as ut"
   ]
  },
  {
   "cell_type": "code",
   "execution_count": 3,
   "metadata": {},
   "outputs": [],
   "source": [
    "egmap_dir = \"/data5/deepro/starrseq/main_library/8_enhancer_gene_map/data/diff_peak/\"\n",
    "peak_dir = \"/data5/deepro/starrseq/main_library/5_enhancer_classification/data/diff_activity/\"\n",
    "rnaseq_dir = \"/data5/deepro/starrseq/main_library/7_rnaseq/data/de/diff_exp_to_control/\"\n",
    "\n",
    "\n",
    "libs = [\"ATF2\", \"CTCF\", \"FOXA1\", \"LEF1\", \"SCRT1\", \"TCF7L2\"]"
   ]
  },
  {
   "cell_type": "markdown",
   "metadata": {},
   "source": [
    "# t-test logFC and % of DE genes"
   ]
  },
  {
   "cell_type": "code",
   "execution_count": 4,
   "metadata": {},
   "outputs": [],
   "source": [
    "data_dict = {\n",
    "    \"library\": [],\n",
    "    \"peak_type\": [],\n",
    "    \"percent_de_genes\": [],\n",
    "    \"logfc_significance\": []\n",
    "}"
   ]
  },
  {
   "cell_type": "code",
   "execution_count": 5,
   "metadata": {},
   "outputs": [],
   "source": [
    "for lib_short in libs:\n",
    "    for peak_type in [\"induced\", \"repressed\", \"constitutive\"]:\n",
    "        egmap_df = ut.get_egmap_df(ut.get_egmap_file(egmap_dir, lib_short, \"great\", peak_type))\n",
    "        rnaseq_df = ut.get_rnaseq_df(ut.get_rnaseq_file(rnaseq_dir, lib_short))\n",
    "        percent_de, test_pval = ut.get_t_stats_and_percent_de_genes(rnaseq_df, egmap_df)\n",
    "        data_dict[\"library\"].append(lib_short)\n",
    "        data_dict[\"peak_type\"].append(peak_type)\n",
    "        data_dict[\"percent_de_genes\"].append(percent_de)\n",
    "        data_dict[\"logfc_significance\"].append(test_pval)"
   ]
  },
  {
   "cell_type": "code",
   "execution_count": 6,
   "metadata": {},
   "outputs": [],
   "source": [
    "meta_df = pd.DataFrame(data_dict)"
   ]
  },
  {
   "cell_type": "code",
   "execution_count": 7,
   "metadata": {},
   "outputs": [
    {
     "data": {
      "text/plain": [
       "<seaborn.axisgrid.FacetGrid at 0x7f93ed51b970>"
      ]
     },
     "execution_count": 7,
     "metadata": {},
     "output_type": "execute_result"
    },
    {
     "data": {
      "image/png": "[encoded data removed]",
      "text/plain": [
       "<Figure size 814.875x360 with 1 Axes>"
      ]
     },
     "metadata": {
      "needs_background": "light"
     },
     "output_type": "display_data"
    }
   ],
   "source": [
    "sns.catplot(data=meta_df, x=\"library\", y=\"percent_de_genes\", hue=\"peak_type\", kind=\"bar\", aspect=2)"
   ]
  },
  {
   "cell_type": "code",
   "execution_count": 8,
   "metadata": {},
   "outputs": [
    {
     "data": {
      "text/plain": [
       "<seaborn.axisgrid.FacetGrid at 0x7f93ee237100>"
      ]
     },
     "execution_count": 8,
     "metadata": {},
     "output_type": "execute_result"
    },
    {
     "data": {
      "image/png": "[encoded data removed]",
      "text/plain": [
       "<Figure size 814.875x360 with 1 Axes>"
      ]
     },
     "metadata": {
      "needs_background": "light"
     },
     "output_type": "display_data"
    }
   ],
   "source": [
    "sns.catplot(data=meta_df, x=\"library\", y=\"logfc_significance\", hue=\"peak_type\", kind=\"bar\", aspect=2)"
   ]
  },
  {
   "cell_type": "code",
   "execution_count": 9,
   "metadata": {},
   "outputs": [
    {
     "data": {
      "text/html": [
       "<div>\n",
       "<style scoped>\n",
       "    .dataframe tbody tr th:only-of-type {\n",
       "        vertical-align: middle;\n",
       "    }\n",
       "\n",
       "    .dataframe tbody tr th {\n",
       "        vertical-align: top;\n",
       "    }\n",
       "\n",
       "    .dataframe thead th {\n",
       "        text-align: right;\n",
       "    }\n",
       "</style>\n",
       "<table border=\"1\" class=\"dataframe\">\n",
       "  <thead>\n",
       "    <tr style=\"text-align: right;\">\n",
       "      <th></th>\n",
       "      <th>library</th>\n",
       "      <th>peak_type</th>\n",
       "      <th>percent_de_genes</th>\n",
       "      <th>logfc_significance</th>\n",
       "    </tr>\n",
       "  </thead>\n",
       "  <tbody>\n",
       "    <tr>\n",
       "      <th>0</th>\n",
       "      <td>ATF2</td>\n",
       "      <td>induced</td>\n",
       "      <td>80.165289</td>\n",
       "      <td>2.606909e-10</td>\n",
       "    </tr>\n",
       "    <tr>\n",
       "      <th>1</th>\n",
       "      <td>ATF2</td>\n",
       "      <td>repressed</td>\n",
       "      <td>72.831050</td>\n",
       "      <td>3.874225e-03</td>\n",
       "    </tr>\n",
       "    <tr>\n",
       "      <th>2</th>\n",
       "      <td>ATF2</td>\n",
       "      <td>constitutive</td>\n",
       "      <td>75.000000</td>\n",
       "      <td>1.404355e-02</td>\n",
       "    </tr>\n",
       "    <tr>\n",
       "      <th>3</th>\n",
       "      <td>CTCF</td>\n",
       "      <td>induced</td>\n",
       "      <td>40.293040</td>\n",
       "      <td>2.956781e-01</td>\n",
       "    </tr>\n",
       "    <tr>\n",
       "      <th>4</th>\n",
       "      <td>CTCF</td>\n",
       "      <td>repressed</td>\n",
       "      <td>45.701357</td>\n",
       "      <td>8.623781e-01</td>\n",
       "    </tr>\n",
       "    <tr>\n",
       "      <th>5</th>\n",
       "      <td>CTCF</td>\n",
       "      <td>constitutive</td>\n",
       "      <td>37.757437</td>\n",
       "      <td>2.157669e-01</td>\n",
       "    </tr>\n",
       "    <tr>\n",
       "      <th>6</th>\n",
       "      <td>FOXA1</td>\n",
       "      <td>induced</td>\n",
       "      <td>30.463576</td>\n",
       "      <td>8.341129e-01</td>\n",
       "    </tr>\n",
       "    <tr>\n",
       "      <th>7</th>\n",
       "      <td>FOXA1</td>\n",
       "      <td>repressed</td>\n",
       "      <td>34.302326</td>\n",
       "      <td>4.771483e-01</td>\n",
       "    </tr>\n",
       "    <tr>\n",
       "      <th>8</th>\n",
       "      <td>FOXA1</td>\n",
       "      <td>constitutive</td>\n",
       "      <td>35.520362</td>\n",
       "      <td>9.331432e-01</td>\n",
       "    </tr>\n",
       "    <tr>\n",
       "      <th>9</th>\n",
       "      <td>LEF1</td>\n",
       "      <td>induced</td>\n",
       "      <td>34.065934</td>\n",
       "      <td>8.447076e-02</td>\n",
       "    </tr>\n",
       "    <tr>\n",
       "      <th>10</th>\n",
       "      <td>LEF1</td>\n",
       "      <td>repressed</td>\n",
       "      <td>28.636364</td>\n",
       "      <td>4.336586e-01</td>\n",
       "    </tr>\n",
       "    <tr>\n",
       "      <th>11</th>\n",
       "      <td>LEF1</td>\n",
       "      <td>constitutive</td>\n",
       "      <td>36.651584</td>\n",
       "      <td>9.005442e-01</td>\n",
       "    </tr>\n",
       "    <tr>\n",
       "      <th>12</th>\n",
       "      <td>SCRT1</td>\n",
       "      <td>induced</td>\n",
       "      <td>15.537849</td>\n",
       "      <td>3.607445e-01</td>\n",
       "    </tr>\n",
       "    <tr>\n",
       "      <th>13</th>\n",
       "      <td>SCRT1</td>\n",
       "      <td>repressed</td>\n",
       "      <td>18.036530</td>\n",
       "      <td>6.982439e-01</td>\n",
       "    </tr>\n",
       "    <tr>\n",
       "      <th>14</th>\n",
       "      <td>SCRT1</td>\n",
       "      <td>constitutive</td>\n",
       "      <td>15.315315</td>\n",
       "      <td>5.559380e-01</td>\n",
       "    </tr>\n",
       "    <tr>\n",
       "      <th>15</th>\n",
       "      <td>TCF7L2</td>\n",
       "      <td>induced</td>\n",
       "      <td>42.070485</td>\n",
       "      <td>1.527657e-01</td>\n",
       "    </tr>\n",
       "    <tr>\n",
       "      <th>16</th>\n",
       "      <td>TCF7L2</td>\n",
       "      <td>repressed</td>\n",
       "      <td>42.352941</td>\n",
       "      <td>2.335485e-01</td>\n",
       "    </tr>\n",
       "    <tr>\n",
       "      <th>17</th>\n",
       "      <td>TCF7L2</td>\n",
       "      <td>constitutive</td>\n",
       "      <td>38.513514</td>\n",
       "      <td>3.474274e-01</td>\n",
       "    </tr>\n",
       "  </tbody>\n",
       "</table>\n",
       "</div>"
      ],
      "text/plain": [
       "   library     peak_type  percent_de_genes  logfc_significance\n",
       "0     ATF2       induced         80.165289        2.606909e-10\n",
       "1     ATF2     repressed         72.831050        3.874225e-03\n",
       "2     ATF2  constitutive         75.000000        1.404355e-02\n",
       "3     CTCF       induced         40.293040        2.956781e-01\n",
       "4     CTCF     repressed         45.701357        8.623781e-01\n",
       "5     CTCF  constitutive         37.757437        2.157669e-01\n",
       "6    FOXA1       induced         30.463576        8.341129e-01\n",
       "7    FOXA1     repressed         34.302326        4.771483e-01\n",
       "8    FOXA1  constitutive         35.520362        9.331432e-01\n",
       "9     LEF1       induced         34.065934        8.447076e-02\n",
       "10    LEF1     repressed         28.636364        4.336586e-01\n",
       "11    LEF1  constitutive         36.651584        9.005442e-01\n",
       "12   SCRT1       induced         15.537849        3.607445e-01\n",
       "13   SCRT1     repressed         18.036530        6.982439e-01\n",
       "14   SCRT1  constitutive         15.315315        5.559380e-01\n",
       "15  TCF7L2       induced         42.070485        1.527657e-01\n",
       "16  TCF7L2     repressed         42.352941        2.335485e-01\n",
       "17  TCF7L2  constitutive         38.513514        3.474274e-01"
      ]
     },
     "execution_count": 9,
     "metadata": {},
     "output_type": "execute_result"
    }
   ],
   "source": [
    "meta_df"
   ]
  },
  {
   "cell_type": "markdown",
   "metadata": {},
   "source": []
  }
 ],
 "metadata": {
  "kernelspec": {
   "display_name": "Python 3.9.7 ('starrseq': conda)",
   "language": "python",
   "name": "python3"
  },
  "language_info": {
   "codemirror_mode": {
    "name": "ipython",
    "version": 3
   },
   "file_extension": ".py",
   "mimetype": "text/x-python",
   "name": "python",
   "nbconvert_exporter": "python",
   "pygments_lexer": "ipython3",
   "version": "3.9.7"
  },
  "orig_nbformat": 4,
  "vscode": {
   "interpreter": {
    "hash": "06856c2527dea3cf472b3c4994ec564df76496982852535c5a9520cd26601212"
   }
  }
 },
 "nbformat": 4,
 "nbformat_minor": 2
}
